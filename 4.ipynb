{
  "cells": [
    {
      "cell_type": "markdown",
      "metadata": {
        "colab_type": "text",
        "id": "view-in-github"
      },
      "source": [
        "<a href=\"https://colab.research.google.com/github/IvanLudvig/ComputationalMaths/blob/master/utils/runge_kutta.ipynb\" target=\"_parent\"><img src=\"https://colab.research.google.com/assets/colab-badge.svg\" alt=\"Open In Colab\"/></a>"
      ]
    },
    {
      "cell_type": "code",
      "execution_count": 1,
      "metadata": {
        "id": "UBCxRlmoWpOl"
      },
      "outputs": [],
      "source": [
        "from sympy import *\n",
        "\n",
        "z = symbols('z')\n",
        "A = Matrix([[0, 0, 0], [1/2, 0, 0], [-1, 2, 0]])\n",
        "b = Matrix([[1/6, 4/6, 1/6]])\n",
        "c = Matrix([[0, 1/2, 1]])"
      ]
    },
    {
      "cell_type": "markdown",
      "metadata": {
        "id": "HvSL11GTc3Ol"
      },
      "source": [
        "## Порядок Аппроксимации"
      ]
    },
    {
      "cell_type": "markdown",
      "metadata": {
        "id": "XU6wnZLBcAT9"
      },
      "source": [
        "p=2"
      ]
    },
    {
      "cell_type": "code",
      "execution_count": 4,
      "metadata": {
        "colab": {
          "base_uri": "https://localhost:8080/"
        },
        "id": "yZlHT-GycA5Y",
        "outputId": "13565a72-0413-4e3b-ee1a-25e6c6f2f4d2"
      },
      "outputs": [
        {
          "data": {
            "text/plain": [
              "(1.00000000000000, True)"
            ]
          },
          "execution_count": 4,
          "metadata": {},
          "output_type": "execute_result"
        }
      ],
      "source": [
        "res = 0\n",
        "for i in range(len(c)):\n",
        "    res += c[i]*b[i]\n",
        "\n",
        "(2*res, 2*res == 1)"
      ]
    },
    {
      "cell_type": "markdown",
      "metadata": {
        "id": "QOzKo_wacBL9"
      },
      "source": [
        "p=3"
      ]
    },
    {
      "cell_type": "code",
      "execution_count": 5,
      "metadata": {
        "colab": {
          "base_uri": "https://localhost:8080/"
        },
        "id": "-bTM_lCUcdDS",
        "outputId": "f41c2310-e6aa-477f-c8aa-41a4fdf1c710"
      },
      "outputs": [
        {
          "data": {
            "text/plain": [
              "(1.00000000000000, 1.00000000000000, True)"
            ]
          },
          "execution_count": 5,
          "metadata": {},
          "output_type": "execute_result"
        }
      ],
      "source": [
        "res1 = 0\n",
        "for i in range(len(c)):\n",
        "    res1 += (c[i]**2)*b[i]\n",
        "\n",
        "res2 = 0\n",
        "for i in range(len(c)):\n",
        "    for j in range(len(c)):\n",
        "        for k in range(len(c)):\n",
        "            res2 += b[i]*A[i, j]*A[j, k]\n",
        "\n",
        "(3*res1, 6*res2, 3*res1 == 1 and 6*res2 == 1)"
      ]
    },
    {
      "cell_type": "markdown",
      "metadata": {
        "id": "sEdScDKLc-p-"
      },
      "source": [
        "## Функция устойчивости"
      ]
    },
    {
      "cell_type": "code",
      "execution_count": 6,
      "metadata": {
        "colab": {
          "base_uri": "https://localhost:8080/",
          "height": 37
        },
        "id": "wGjTiarDXcV8",
        "outputId": "32c26f5b-d28a-4715-c449-d2bafc03d1a0"
      },
      "outputs": [],
      "source": [
        "denom = (eye(3)-z*A).det()"
      ]
    },
    {
      "cell_type": "code",
      "execution_count": 7,
      "metadata": {
        "colab": {
          "base_uri": "https://localhost:8080/",
          "height": 38
        },
        "id": "GM4ze5ULXoPl",
        "outputId": "69b0cce3-1a36-42cd-a872-77fded8fef40"
      },
      "outputs": [],
      "source": [
        "e = Matrix([[1, 1, 1]])\n",
        "num = (eye(3)-z*A+z*e.T*b).det()\n"
      ]
    },
    {
      "cell_type": "code",
      "execution_count": 8,
      "metadata": {
        "colab": {
          "base_uri": "https://localhost:8080/",
          "height": 54
        },
        "id": "cHAXPoixY7nK",
        "outputId": "1019ee7c-cb5d-4522-9c1b-06e6c14715f3"
      },
      "outputs": [
        {
          "data": {
            "text/latex": [
              "$\\displaystyle \\frac{z^{3}}{6} + \\frac{z^{2}}{2} + z + 1$"
            ],
            "text/plain": [
              "z**3/6 + z**2/2 + z + 1"
            ]
          },
          "execution_count": 8,
          "metadata": {},
          "output_type": "execute_result"
        }
      ],
      "source": [
        "R = Function('R')(z)\n",
        "R = num/denom\n",
        "nsimplify(R)"
      ]
    },
    {
      "cell_type": "markdown",
      "metadata": {
        "id": "o5hB4UFsdCCi"
      },
      "source": [
        "### A-устойчивость"
      ]
    },
    {
      "cell_type": "code",
      "execution_count": 9,
      "metadata": {
        "colab": {
          "base_uri": "https://localhost:8080/",
          "height": 38
        },
        "id": "7i3-Ctm2Z1jK",
        "outputId": "4af37d5b-122a-4c38-d7be-58ed6cee8403"
      },
      "outputs": [
        {
          "data": {
            "text/latex": [
              "$\\displaystyle -1.73205080756888 \\leq z \\wedge z \\leq 1.73205080756888$"
            ],
            "text/plain": [
              "(-1.73205080756888 <= z) & (z <= 1.73205080756888)"
            ]
          },
          "execution_count": 9,
          "metadata": {},
          "output_type": "execute_result"
        }
      ],
      "source": [
        "solve(abs(R.subs(z, I*z))<=1)"
      ]
    },
    {
      "cell_type": "markdown",
      "metadata": {
        "id": "NSXnuWKdbNt_"
      },
      "source": [
        "не является A-уст"
      ]
    },
    {
      "cell_type": "markdown",
      "metadata": {
        "id": "O2pkHKVkdFof"
      },
      "source": [
        "### L-устойчивость"
      ]
    },
    {
      "cell_type": "code",
      "execution_count": 10,
      "metadata": {
        "colab": {
          "base_uri": "https://localhost:8080/"
        },
        "id": "G1A41i63bQcd",
        "outputId": "7492c3fa-2724-41d0-ba05-a69f9924ccc2"
      },
      "outputs": [
        {
          "data": {
            "text/plain": [
              "(-oo, False)"
            ]
          },
          "execution_count": 10,
          "metadata": {},
          "output_type": "execute_result"
        }
      ],
      "source": [
        "(limit(R, z, -oo), limit(R, z, -oo)==0)"
      ]
    },
    {
      "cell_type": "markdown",
      "metadata": {
        "id": "BjcipiqibaLm"
      },
      "source": [
        "не является L-уст"
      ]
    }
  ],
  "metadata": {
    "colab": {
      "collapsed_sections": [],
      "include_colab_link": true,
      "name": "runge-kutta.ipynb",
      "provenance": []
    },
    "kernelspec": {
      "display_name": "Python 3",
      "name": "python3"
    },
    "language_info": {
      "codemirror_mode": {
        "name": "ipython",
        "version": 3
      },
      "file_extension": ".py",
      "mimetype": "text/x-python",
      "name": "python",
      "nbconvert_exporter": "python",
      "pygments_lexer": "ipython3",
      "version": "3.8.5"
    }
  },
  "nbformat": 4,
  "nbformat_minor": 0
}
